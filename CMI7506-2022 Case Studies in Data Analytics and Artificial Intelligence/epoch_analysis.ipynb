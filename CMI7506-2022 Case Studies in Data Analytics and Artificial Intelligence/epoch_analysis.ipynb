{
 "cells": [
  {
   "cell_type": "code",
   "execution_count": null,
   "id": "a91cd6a7",
   "metadata": {},
   "outputs": [],
   "source": [
    "#import required libraries to manipulate data and plot\n",
    "import pandas as pd\n",
    "import os\n",
    "\n",
    "import plotly.express as px\n",
    "import plotly.io as pio\n",
    "\n",
    "pio.templates.default=\"simple_white\""
   ]
  },
  {
   "cell_type": "code",
   "execution_count": null,
   "id": "f0262c60",
   "metadata": {
    "scrolled": false
   },
   "outputs": [],
   "source": [
    "#loops through all \"details\" files from matlab output\n",
    "for i in [x for x in os.listdir() if \"details\" in x]:\n",
    "    \n",
    "    #split out the file name string into usable string elements\n",
    "    name_elements = i.split(\"_\")\n",
    "    size_elements = name_elements[5].split(\".\")    \n",
    "    \n",
    "    #read in the output file from matlab\n",
    "    working_df = pd.read_csv(i,names=[\"train_error\",\"step_size\",\"validation_error\"])\n",
    "    \n",
    "    #create a line plot of training error and validation error vs. epoch\n",
    "    fig = px.line(working_df,\n",
    "              x=working_df.index,\n",
    "              y=[\"train_error\",\"validation_error\"],\n",
    "              title=f\"Root Mean Square Error [RMSE] vs. Epoch for ANFIS Members:{name_elements[3]} Training Sample:{size_elements[0]}\",\n",
    "              height = 760,\n",
    "              width = 1080)\n",
    "\n",
    "    fig.update_xaxes(title=\"Epoch [-]\", showgrid=True, showline=True, linewidth=1, mirror=True)\n",
    "    fig.update_yaxes(title=\"RMSE [-]\", showgrid=True, showline=True, linewidth=1, mirror=True)\n",
    "    fig.update_layout(legend=dict(\n",
    "        yanchor=\"top\",\n",
    "        y=0.99,\n",
    "        xanchor=\"right\",\n",
    "        x=0.99,\n",
    "        borderwidth=1))\n",
    "    \n",
    "    fig.show()"
   ]
  },
  {
   "cell_type": "code",
   "execution_count": null,
   "id": "14a51246",
   "metadata": {},
   "outputs": [],
   "source": []
  }
 ],
 "metadata": {
  "kernelspec": {
   "display_name": "Python 3 (ipykernel)",
   "language": "python",
   "name": "python3"
  },
  "language_info": {
   "codemirror_mode": {
    "name": "ipython",
    "version": 3
   },
   "file_extension": ".py",
   "mimetype": "text/x-python",
   "name": "python",
   "nbconvert_exporter": "python",
   "pygments_lexer": "ipython3",
   "version": "3.9.7"
  }
 },
 "nbformat": 4,
 "nbformat_minor": 5
}
