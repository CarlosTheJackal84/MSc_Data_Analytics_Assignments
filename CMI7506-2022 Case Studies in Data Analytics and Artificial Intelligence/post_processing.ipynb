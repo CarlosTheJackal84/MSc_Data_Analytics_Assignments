{
 "cells": [
  {
   "cell_type": "code",
   "execution_count": null,
   "id": "17cff0b5",
   "metadata": {},
   "outputs": [],
   "source": [
    "#import required libraries\n",
    "import os\n",
    "import pandas as pd"
   ]
  },
  {
   "cell_type": "code",
   "execution_count": null,
   "id": "2cd144cc",
   "metadata": {},
   "outputs": [],
   "source": [
    "#list all files in directory\n",
    "results_file_list = os.listdir()"
   ]
  },
  {
   "cell_type": "markdown",
   "id": "b9ae2d93",
   "metadata": {},
   "source": [
    "# Consolidating Test Results"
   ]
  },
  {
   "cell_type": "code",
   "execution_count": null,
   "id": "92c5ebb1",
   "metadata": {},
   "outputs": [],
   "source": [
    "#create a blank dataframe for concatenating to\n",
    "test_master_df = pd.DataFrame()"
   ]
  },
  {
   "cell_type": "code",
   "execution_count": null,
   "id": "4f0b0adf",
   "metadata": {},
   "outputs": [],
   "source": [
    "#read in the conventional machine learning results\n",
    "ml_results = pd.read_csv(\"benchmarking_results_12Feb22.csv\",index_col=0)"
   ]
  },
  {
   "cell_type": "code",
   "execution_count": null,
   "id": "d23c8fed",
   "metadata": {},
   "outputs": [],
   "source": [
    "#concatenate the results\n",
    "test_master_df = pd.concat([test_master_df,ml_results],axis=1)"
   ]
  },
  {
   "cell_type": "code",
   "execution_count": null,
   "id": "e9c0426c",
   "metadata": {},
   "outputs": [],
   "source": [
    "#create a list of all test results files from the master directory list\n",
    "test_results = [x for x in results_file_list if \"testing\" in x]"
   ]
  },
  {
   "cell_type": "code",
   "execution_count": null,
   "id": "fc7b0c3e",
   "metadata": {},
   "outputs": [],
   "source": [
    "#loop through concatenating all results files\n",
    "for i in test_results:\n",
    "    working_df = pd.read_csv(i,names=[i])\n",
    "    test_master_df=pd.concat([test_master_df,working_df],axis=1)"
   ]
  },
  {
   "cell_type": "code",
   "execution_count": null,
   "id": "ff7039a8",
   "metadata": {},
   "outputs": [],
   "source": [
    "#check if any numbers are out of the expected range\n",
    "for i in test_results:\n",
    "    print(f\"Minimum in {i}: {test_master_df[[i]].min()}\")\n",
    "    print(f\"Maximum in {i}: {test_master_df[[i]].max()}\")"
   ]
  },
  {
   "cell_type": "code",
   "execution_count": null,
   "id": "4715e853",
   "metadata": {},
   "outputs": [],
   "source": [
    "#reign out of range numbers back into expected range\n",
    "test_master_df[test_master_df>2]=2\n",
    "test_master_df[test_master_df<0]=0"
   ]
  },
  {
   "cell_type": "code",
   "execution_count": null,
   "id": "72bdce4f",
   "metadata": {},
   "outputs": [],
   "source": [
    "#check\n",
    "for i in test_results:\n",
    "    print(f\"Minimum in {i}: {test_master_df[[i]].min()}\")\n",
    "    print(f\"Maximum in {i}: {test_master_df[[i]].max()}\")"
   ]
  },
  {
   "cell_type": "code",
   "execution_count": null,
   "id": "d72b28fe",
   "metadata": {},
   "outputs": [],
   "source": [
    "#check for any missing values and that all columns are of equal length\n",
    "test_master_df.info()"
   ]
  },
  {
   "cell_type": "code",
   "execution_count": null,
   "id": "baff6b22",
   "metadata": {},
   "outputs": [],
   "source": [
    "#rename all anfis columsn to something meaningful\n",
    "test_master_df = test_master_df.rename({\"anfis_testing_2_members_156.csv\":\"ANFIS2_156\",\n",
    "                             \"anfis_testing_2_members_1561.csv\":\"ANFIS2_1561\",\n",
    "                             \"anfis_testing_2_members_15610.csv\":\"ANFIS2_15610\",\n",
    "                             \"anfis_testing_2_members_78.csv\":\"ANFIS2_78\",\n",
    "                             \"anfis_testing_2_members_7805.csv\":\"ANFIS2_7805\",\n",
    "                             \"anfis_testing_2_members_78052.csv\":\"ANFIS2_78052\",\n",
    "                             \"anfis_testing_2_members_781.csv\":\"ANFIS2_781\",\n",
    "                             \"anfis_testing_3_members_156.csv\":\"ANFIS3_156\",\n",
    "                             \"anfis_testing_3_members_1561.csv\":\"ANFIS3_1561\",\n",
    "                             \"anfis_testing_3_members_15610.csv\":\"ANFIS3_15610\",\n",
    "                             \"anfis_testing_3_members_78.csv\":\"ANFIS3_78\",\n",
    "                             \"anfis_testing_3_members_7805.csv\":\"ANFIS3_7805\",\n",
    "                             \"anfis_testing_3_members_781.csv\":\"ANFIS3_781\",},axis=1)"
   ]
  },
  {
   "cell_type": "code",
   "execution_count": null,
   "id": "41fea6de",
   "metadata": {},
   "outputs": [],
   "source": [
    "#examine the results table aggregates\n",
    "test_master_df.describe()"
   ]
  },
  {
   "cell_type": "code",
   "execution_count": null,
   "id": "c0ce213b",
   "metadata": {},
   "outputs": [],
   "source": [
    "#export to csv\n",
    "test_master_df.to_csv(\"test_results_consolidated_15Feb22.csv\")"
   ]
  },
  {
   "cell_type": "markdown",
   "id": "a8e16edd",
   "metadata": {},
   "source": [
    "# Consolidating Training Results"
   ]
  },
  {
   "cell_type": "code",
   "execution_count": null,
   "id": "03b5ec05",
   "metadata": {},
   "outputs": [],
   "source": [
    "#create a list of all training results files from the master directory list\n",
    "training_results_list = [x for x in results_file_list if \"training\" in x]"
   ]
  },
  {
   "cell_type": "code",
   "execution_count": null,
   "id": "981f221a",
   "metadata": {},
   "outputs": [],
   "source": [
    "#small function to combine two frames of same length from csv\n",
    "def combine_two_frames(ml_csv,anfis2_csv):\n",
    "    working_df=pd.read_csv(ml_csv,index_col=0)\n",
    "    anfis2_df=pd.read_csv(anfis2_csv,names=[anfis2_csv])\n",
    "\n",
    "    working_df=pd.concat([working_df,anfis2_df],axis=1)\n",
    "    \n",
    "    working_df[working_df>2]=2\n",
    "    working_df[working_df<0]=0\n",
    "    \n",
    "    training_length = ml_csv.split(\"_\")\n",
    "    training_length = training_length[2].split(\".\")\n",
    "    training_length = training_length[0]\n",
    "    \n",
    "    working_df = working_df.rename({anfis2_csv:f\"ANFIS2_{training_length}\"},\n",
    "                                   axis=1)\n",
    "    \n",
    "    file_name = f\"training_results_consolidated_{training_length}.csv\"\n",
    "    \n",
    "    working_df.to_csv(file_name)"
   ]
  },
  {
   "cell_type": "code",
   "execution_count": null,
   "id": "6229d77c",
   "metadata": {},
   "outputs": [],
   "source": [
    "#small functiona to combine three frames of same length from csv\n",
    "def combine_three_frames(ml_csv,anfis2_csv,anfis3_csv):\n",
    "    working_df=pd.read_csv(ml_csv,index_col=0)\n",
    "    anfis2_df=pd.read_csv(anfis2_csv,names=[anfis2_csv])\n",
    "    anfis3_df=pd.read_csv(anfis3_csv,names=[anfis3_csv])\n",
    "    \n",
    "    working_df=pd.concat([working_df,anfis2_df,anfis3_df],axis=1)\n",
    "    \n",
    "    working_df[working_df>2]=2\n",
    "    working_df[working_df<0]=0\n",
    "    \n",
    "    training_length = ml_csv.split(\"_\")\n",
    "    training_length = training_length[2].split(\".\")\n",
    "    training_length = training_length[0]\n",
    "    \n",
    "    working_df = working_df.rename({anfis2_csv:f\"ANFIS2_{training_length}\",\n",
    "                                   anfis3_csv:f\"ANFIS3_{training_length}\"},\n",
    "                                   axis=1)\n",
    "    \n",
    "    file_name = f\"training_results_consolidated_{training_length}.csv\"\n",
    "    \n",
    "    working_df.to_csv(file_name)"
   ]
  },
  {
   "cell_type": "code",
   "execution_count": null,
   "id": "fc0ccdf3",
   "metadata": {},
   "outputs": [],
   "source": [
    "#combine up all the frames of same length into training results files\n",
    "combine_three_frames(\"training_results_156.csv\",\n",
    "                   \"anfis_training_2_members_156.csv\",\n",
    "                   \"anfis_training_3_members_156.csv\")\n",
    "\n",
    "combine_three_frames(\"training_results_1561.csv\",\n",
    "                   \"anfis_training_2_members_1561.csv\",\n",
    "                   \"anfis_training_3_members_1561.csv\"\n",
    "                    )\n",
    "\n",
    "\n",
    "combine_three_frames(\"training_results_78.csv\",\n",
    "                   \"anfis_training_2_members_78.csv\",\n",
    "                   \"anfis_training_3_members_78.csv\")\n",
    "\n",
    "combine_three_frames(\"training_results_781.csv\",\n",
    "                   \"anfis_training_2_members_781.csv\",\n",
    "                   \"anfis_training_3_members_781.csv\"\n",
    "                    )\n",
    "\n",
    "combine_three_frames(\"training_results_7805.csv\",\n",
    "                   \"anfis_training_2_members_7805.csv\",\n",
    "                   \"anfis_training_3_members_7805.csv\")\n",
    "\n",
    "combine_two_frames(\"training_results_15610.csv\",\n",
    "                   \"anfis_training_2_members_15610.csv\")\n",
    "\n",
    "combine_two_frames(\"training_results_78052.csv\",\n",
    "                   \"anfis_training_2_members_78052.csv\")"
   ]
  }
 ],
 "metadata": {
  "kernelspec": {
   "display_name": "Python 3 (ipykernel)",
   "language": "python",
   "name": "python3"
  },
  "language_info": {
   "codemirror_mode": {
    "name": "ipython",
    "version": 3
   },
   "file_extension": ".py",
   "mimetype": "text/x-python",
   "name": "python",
   "nbconvert_exporter": "python",
   "pygments_lexer": "ipython3",
   "version": "3.9.7"
  }
 },
 "nbformat": 4,
 "nbformat_minor": 5
}
