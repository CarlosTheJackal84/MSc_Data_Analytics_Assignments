{
 "cells": [
  {
   "cell_type": "code",
   "execution_count": null,
   "id": "0939f62a",
   "metadata": {},
   "outputs": [],
   "source": [
    "import numpy as np\n",
    "import pandas as pd\n",
    "import scipy.stats as stats\n",
    "\n",
    "import matplotlib.pyplot as plt\n",
    "import plotly.express as px\n",
    "import plotly.io as pio\n",
    "import seaborn as sns\n",
    "\n",
    "from sklearn.preprocessing import OrdinalEncoder\n",
    "\n",
    "pio.templates.default=\"simple_white\""
   ]
  },
  {
   "cell_type": "code",
   "execution_count": null,
   "id": "0f9b587b",
   "metadata": {},
   "outputs": [],
   "source": [
    "#read the data file from Kaggle\n",
    "data_read = pd.read_csv(\"star_classification.csv\")"
   ]
  },
  {
   "cell_type": "code",
   "execution_count": null,
   "id": "1cbce425",
   "metadata": {},
   "outputs": [],
   "source": [
    "#make a copy so the original read can be referred back to\n",
    "master_df=data_read.copy()"
   ]
  },
  {
   "cell_type": "code",
   "execution_count": null,
   "id": "85f412cc",
   "metadata": {},
   "outputs": [],
   "source": [
    "#change the predictor variables of interests names to something meaningful\n",
    "master_df = master_df.rename({\n",
    "    \"u\":\"Ultraviolet\",\n",
    "    \"g\":\"Green\",\n",
    "    \"r\":\"Red\",\n",
    "    \"i\":\"Near_Infrared\",\n",
    "    \"z\":\"Infrared\",\n",
    "    \"redshift\":\"Redshift\"\n",
    "},axis=1)"
   ]
  },
  {
   "cell_type": "code",
   "execution_count": null,
   "id": "26786bec",
   "metadata": {},
   "outputs": [],
   "source": [
    "#check there are no missing values\n",
    "master_df.info()"
   ]
  },
  {
   "cell_type": "code",
   "execution_count": null,
   "id": "c075c16b",
   "metadata": {},
   "outputs": [],
   "source": [
    "#check the distribution of the data\n",
    "master_df.describe()"
   ]
  },
  {
   "cell_type": "code",
   "execution_count": null,
   "id": "1c2f571c",
   "metadata": {},
   "outputs": [],
   "source": [
    "#drop variables not of interest\n",
    "master_df = master_df.drop([\"alpha\",\"delta\",\"run_ID\",\"rerun_ID\",\"cam_col\",\n",
    "                            \"field_ID\",\"spec_obj_ID\",\"plate\",\"fiber_ID\"],axis=1)"
   ]
  },
  {
   "cell_type": "code",
   "execution_count": null,
   "id": "0c429545",
   "metadata": {},
   "outputs": [],
   "source": [
    "#find outlier data entry\n",
    "master_df[master_df[\"Ultraviolet\"]==master_df[\"Ultraviolet\"].min()]"
   ]
  },
  {
   "cell_type": "code",
   "execution_count": null,
   "id": "2620998a",
   "metadata": {},
   "outputs": [],
   "source": [
    "#drop the outlier from the master set\n",
    "master_df=master_df.drop(79543)"
   ]
  },
  {
   "cell_type": "code",
   "execution_count": null,
   "id": "b163c5cf",
   "metadata": {},
   "outputs": [],
   "source": [
    "#check how many unique objects there are\n",
    "len(master_df.obj_ID.unique())"
   ]
  },
  {
   "cell_type": "code",
   "execution_count": null,
   "id": "f9aebaa8",
   "metadata": {},
   "outputs": [],
   "source": [
    "#sort the frame based on modified Julian date\n",
    "master_df = master_df.sort_values(by=[\"MJD\"])"
   ]
  },
  {
   "cell_type": "code",
   "execution_count": null,
   "id": "7f0f6683",
   "metadata": {},
   "outputs": [],
   "source": [
    "#copy duplicates into a new frame\n",
    "duplicates_df=master_df.loc[master_df[\"obj_ID\"].duplicated(),:]"
   ]
  },
  {
   "cell_type": "code",
   "execution_count": null,
   "id": "f372ed0e",
   "metadata": {},
   "outputs": [],
   "source": [
    "#drop duplicates and have a frame of initial observations\n",
    "initials_df=master_df.drop_duplicates([\"obj_ID\"])"
   ]
  },
  {
   "cell_type": "code",
   "execution_count": null,
   "id": "034f1546",
   "metadata": {},
   "outputs": [],
   "source": [
    "#check the lengths tally\n",
    "len(initials_df)"
   ]
  },
  {
   "cell_type": "code",
   "execution_count": null,
   "id": "689d2acf",
   "metadata": {},
   "outputs": [],
   "source": [
    "#check the lengths tally\n",
    "len(duplicates_df)"
   ]
  },
  {
   "cell_type": "code",
   "execution_count": null,
   "id": "a605e304",
   "metadata": {},
   "outputs": [],
   "source": [
    "##check the lengths tally\n",
    "len(duplicates_df+initials_df)"
   ]
  },
  {
   "cell_type": "code",
   "execution_count": null,
   "id": "5faf5cf6",
   "metadata": {},
   "outputs": [],
   "source": [
    "#check if the predictor variables fit a Gaussian distribution\n",
    "guassian_analysis_df = pd.DataFrame(columns=[\"Variable\",\"Statistic\",\"P-Value\"])\n",
    "\n",
    "for i in initials_df.drop([\"obj_ID\",\"MJD\",\"class\"],axis=1).iloc[:201,:].columns:\n",
    "    vector = initials_df[i]\n",
    "    test_distribution=getattr(stats,\"norm\")\n",
    "    parameters=test_distribution.fit(vector)\n",
    "    test_stat,p_value=stats.kstest((vector),\"norm\",parameters)\n",
    "    \n",
    "    guassian_analysis_df=guassian_analysis_df.append({\n",
    "        \"Variable\":i,\n",
    "        \"Statistic\":round(test_stat,5),\n",
    "        \"P-Value\":round(p_value,5)\n",
    "    },ignore_index=True)\n",
    "    \n",
    "guassian_analysis_df"
   ]
  },
  {
   "cell_type": "code",
   "execution_count": null,
   "id": "caaee41b",
   "metadata": {},
   "outputs": [],
   "source": [
    "#create a pairplot of all interesting predictor variables\n",
    "sns.pairplot(initials_df.drop([\"obj_ID\",\"MJD\"],axis=1),\n",
    "            hue=\"class\",corner=True)"
   ]
  },
  {
   "cell_type": "code",
   "execution_count": null,
   "id": "9f8401dd",
   "metadata": {
    "scrolled": false
   },
   "outputs": [],
   "source": [
    "#create box plots of all interesting predictor variables\n",
    "for i in initials_df.drop([\"obj_ID\",\"MJD\",\"class\"],axis=1).columns:\n",
    "    fig = px.box(master_df,\n",
    "                 y=i,\n",
    "                 x=\"class\",\n",
    "                 color=\"class\",\n",
    "                 height=640,\n",
    "                 width=640)\n",
    "    \n",
    "    fig.update_xaxes(showline=True, linewidth=1, mirror=True,title=\"Class\")\n",
    "    fig.update_yaxes(showline=True, linewidth=1, mirror=True)\n",
    "    fig.update_traces(marker={\"size\": 15,\n",
    "                             \"symbol\": 134,\n",
    "                             \"line_width\": 3})\n",
    "    \n",
    "    fig.update_layout(legend=dict(\n",
    "        orientation=\"h\",\n",
    "        yanchor=\"bottom\",\n",
    "        y=1.02,\n",
    "        xanchor=\"center\",\n",
    "        x=0.5,\n",
    "        title=\"Class:\",\n",
    "        bordercolor=\"black\",\n",
    "        borderwidth=1))\n",
    "    \n",
    "    fig.show()"
   ]
  },
  {
   "cell_type": "code",
   "execution_count": null,
   "id": "738d449d",
   "metadata": {
    "scrolled": false
   },
   "outputs": [],
   "source": [
    "#create correlation matrices for predictor variables by class\n",
    "for c in initials_df[\"class\"].unique():\n",
    "    corr_df=initials_df[initials_df[\"class\"]==c].drop([\"obj_ID\",\"MJD\",\"class\"],axis=1).corr(method=\"spearman\")\n",
    "    fig = plt.figure(figsize=(8,6))\n",
    "\n",
    "    ax=fig.add_subplot(111)\n",
    "    ax.set_title(f\"Spearman rank correlations for class: {c}\",fontname=\"Calibri\",fontsize=14)\n",
    "    cax=ax.matshow(corr_df,cmap=\"viridis\",vmin=-1,vmax=1)\n",
    "    fig.colorbar(cax,label=\"Spearman rank correlation\")\n",
    "    \n",
    "    ticks=np.arange(0,len(corr_df.columns),1)\n",
    "\n",
    "    ax.set_xticks(ticks)\n",
    "    plt.xticks(rotation=90)\n",
    "    ax.set_xticklabels(corr_df.columns)\n",
    "\n",
    "    ax.set_yticks(ticks)\n",
    "    ax.set_yticklabels(corr_df.columns)    \n",
    "\n",
    "    plt.show()"
   ]
  },
  {
   "cell_type": "code",
   "execution_count": null,
   "id": "ada0e415",
   "metadata": {},
   "outputs": [],
   "source": [
    "#complete Kruskal-Wallis test to check all predictor variables are of value\n",
    "kw_df = pd.DataFrame(columns=[\"Variable\",\"Statistic\",\"P-Value\"])\n",
    "\n",
    "predictor_variables = [\"Ultraviolet\",\"Green\",\"Red\",\"Near_Infrared\",\"Infrared\",\"Redshift\"]\n",
    "\n",
    "for i in predictor_variables:\n",
    "    #create a new dictionary for class data\n",
    "    class_dict={}\n",
    "\n",
    "    #loop through each class and add suicides_100k_pop data to dictionary\n",
    "    for j in initials_df[\"class\"].unique():\n",
    "        class_dict[j]=initials_df[i][initials_df[\"class\"]==j].values\n",
    "\n",
    "    #run the Kruskal-Wallis test\n",
    "    test_stat, p_value = stats.kruskal(*class_dict.values())\n",
    "    \n",
    "    kw_df = kw_df.append({\n",
    "        \"Variable\":i,\n",
    "        \"Statistic\":test_stat,\n",
    "        \"P-Value\":p_value\n",
    "    },ignore_index=True)\n",
    "    \n",
    "kw_df"
   ]
  },
  {
   "cell_type": "code",
   "execution_count": null,
   "id": "ea37b7f6",
   "metadata": {},
   "outputs": [],
   "source": [
    "#fit an ordinal encoder to the master dataframe based on class\n",
    "enc = OrdinalEncoder().fit(master_df[[\"class\"]])"
   ]
  },
  {
   "cell_type": "code",
   "execution_count": null,
   "id": "8ff38c5c",
   "metadata": {},
   "outputs": [],
   "source": [
    "#create the training data set\n",
    "training_data = initials_df.drop([\"obj_ID\",\"MJD\"],axis=1)"
   ]
  },
  {
   "cell_type": "code",
   "execution_count": null,
   "id": "d1541093",
   "metadata": {},
   "outputs": [],
   "source": [
    "#trainsform the class column from string to ordinal encoding\n",
    "training_data[[\"class\"]] = enc.transform(training_data[[\"class\"]])"
   ]
  },
  {
   "cell_type": "code",
   "execution_count": null,
   "id": "89d90792",
   "metadata": {},
   "outputs": [],
   "source": [
    "#create the test dataset\n",
    "test_data = duplicates_df.drop([\"obj_ID\",\"MJD\"],axis=1)"
   ]
  },
  {
   "cell_type": "code",
   "execution_count": null,
   "id": "072e2483",
   "metadata": {},
   "outputs": [],
   "source": [
    "#transfor the class column from string to ordinal encoding\n",
    "test_data[[\"class\"]] = enc.transform(test_data[[\"class\"]])"
   ]
  },
  {
   "cell_type": "code",
   "execution_count": null,
   "id": "9b226afe",
   "metadata": {},
   "outputs": [],
   "source": [
    "#export files to csv\n",
    "training_data.to_csv(\"stellar_training_data.csv\")\n",
    "test_data.to_csv(\"stellar_test_data.csv\")"
   ]
  }
 ],
 "metadata": {
  "kernelspec": {
   "display_name": "Python 3 (ipykernel)",
   "language": "python",
   "name": "python3"
  },
  "language_info": {
   "codemirror_mode": {
    "name": "ipython",
    "version": 3
   },
   "file_extension": ".py",
   "mimetype": "text/x-python",
   "name": "python",
   "nbconvert_exporter": "python",
   "pygments_lexer": "ipython3",
   "version": "3.9.7"
  }
 },
 "nbformat": 4,
 "nbformat_minor": 5
}
