{
 "cells": [
  {
   "cell_type": "code",
   "execution_count": 1,
   "id": "706f6fa4",
   "metadata": {},
   "outputs": [],
   "source": [
    "#os, numpy and pandas for basic operations and data manipulation\n",
    "import os\n",
    "import numpy as np\n",
    "import pandas as pd\n",
    "import random\n",
    "from itertools import cycle\n",
    "\n",
    "#pillow will be used for image manipulation\n",
    "import matplotlib.pyplot as plt\n",
    "from PIL import Image, ImageFilter, ImageEnhance\n",
    "\n",
    "#xml required to parse annotation files\n",
    "import xml.etree.ElementTree as ET\n",
    "\n",
    "#train_test_split used for creating a stratified split of training and test data\n",
    "from sklearn.model_selection import train_test_split\n",
    "\n",
    "#models will be built using Keras\n",
    "from tensorflow import keras\n",
    "import tensorflow as tf\n",
    "from tensorflow.keras import layers, models\n",
    "\n",
    "#keras tuner used for model tuning\n",
    "import keras_tuner\n",
    "from keras_tuner.engine.hyperparameters import HyperParameter\n",
    "from keras_tuner import BayesianOptimization\n",
    "\n",
    "#sklearn metrics will be used for examining results\n",
    "from sklearn.metrics import confusion_matrix, ConfusionMatrixDisplay, roc_curve, auc, roc_auc_score\n",
    "from sklearn.metrics import classification_report\n",
    "from sklearn.preprocessing import LabelBinarizer"
   ]
  },
  {
   "cell_type": "code",
   "execution_count": 2,
   "id": "336ae172",
   "metadata": {},
   "outputs": [
    {
     "name": "stdout",
     "output_type": "stream",
     "text": [
      "GPU Ready and available\n"
     ]
    }
   ],
   "source": [
    "#check that TensorFlow is able to detect the GPU\n",
    "if len(tf.config.list_physical_devices(\"GPU\")) > 0:\n",
    "    print(\"GPU Ready and available\")\n",
    "else:\n",
    "    print(\"panic\")"
   ]
  },
  {
   "cell_type": "code",
   "execution_count": 3,
   "id": "136bb977",
   "metadata": {},
   "outputs": [],
   "source": [
    "#set directory for image and annotation files\n",
    "img_dir = \".\\images\"\n",
    "anno_dir = r\".\\annotations\""
   ]
  },
  {
   "cell_type": "code",
   "execution_count": 4,
   "id": "332dc76c",
   "metadata": {},
   "outputs": [],
   "source": [
    "def ordinal_encode(df_in):\n",
    "    \"\"\"\n",
    "    Function to ordinally encode classes from strings\n",
    "    df_in - dataframe of data for encoding\n",
    "    df_out - returned dataframe with encoding\n",
    "    \"\"\"\n",
    "    df_out=df_in.replace({\n",
    "        \"without_mask\":0,\n",
    "        \"mask_weared_incorrect\":1,\n",
    "        \"with_mask\":2        \n",
    "    })\n",
    "    return df_out"
   ]
  },
  {
   "cell_type": "code",
   "execution_count": 5,
   "id": "9501ce04",
   "metadata": {},
   "outputs": [],
   "source": [
    "def image_cropping(df_in):\n",
    "    \"\"\"\n",
    "    short function that takes a dataframe of training or test samples and crops them\n",
    "    df_in: dataframe of image names and bounding boxes\n",
    "    df_out: dataframe with new image names appended\n",
    "    location: storage location for cropped images\n",
    "    \"\"\"\n",
    "     \n",
    "    #loop through all bounding boxes\n",
    "    for i in df_in.index:\n",
    "        #locate file name\n",
    "        f=df_in.loc[i,\"file\"]\n",
    "        \n",
    "        #locate class\n",
    "        cls=df_in.loc[i,\"target\"]\n",
    "        \n",
    "        #load base image for file name\n",
    "        active_img=Image.open(f\".\\images\\{f}.png\")\n",
    "    \n",
    "        #set boundry box corners\n",
    "        xmin=df_in.loc[i,\"xmin\"]\n",
    "        ymin=df_in.loc[i,\"ymin\"]\n",
    "        xmax=df_in.loc[i,\"xmax\"]\n",
    "        ymax=df_in.loc[i,\"ymax\"]\n",
    "        \n",
    "        #set the area to be cropped from the base image\n",
    "        crop_area = (xmin, ymin, xmax, ymax)\n",
    "        \n",
    "        #create the new cropped image\n",
    "        cropped_img = active_img.crop(crop_area)\n",
    "        \n",
    "        #resize the image\n",
    "        resized_img = cropped_img.resize((36,36), Image.ANTIALIAS)\n",
    "        \n",
    "        #ensure the storage directory exists\n",
    "        if not os.path.exists(\"data\"):\n",
    "            os.mkdir(\"data\")\n",
    "        \n",
    "        #append the specific image name including target class\n",
    "        df_in.loc[i,\"img\"]=f\"{i}_{cls}.png\"\n",
    "        \n",
    "        #save the new image\n",
    "        resized_img.save(f\"data\\{i}_{cls}.png\")\n",
    "    \n",
    "    df_out=df_in.copy()\n",
    "    \n",
    "    return df_out"
   ]
  },
  {
   "cell_type": "code",
   "execution_count": 6,
   "id": "7e7a2e99",
   "metadata": {},
   "outputs": [],
   "source": [
    "def over_sampler(df_in):\n",
    "    \"\"\"\n",
    "    function for random augmentation of images to balance each class\n",
    "    df_in - dataframe of images by class\n",
    "    \"\"\"\n",
    "    total_count=0\n",
    "    \n",
    "    #create a random rotation function\n",
    "    def random_rotation(img):\n",
    "        #50% chance of being applied\n",
    "        if random.random() > 0.5:\n",
    "            rotation=random.uniform(-15,15)\n",
    "            rotated_img=img.rotate(rotation)\n",
    "        else:\n",
    "            rotated_img=img\n",
    "        return rotated_img\n",
    "    \n",
    "    #create a random flip function\n",
    "    def random_flip(img):\n",
    "        if random.random() > 0.5:\n",
    "            flipped_img=img.transpose(Image.FLIP_LEFT_RIGHT)\n",
    "        else:\n",
    "            flipped_img=img\n",
    "        return flipped_img\n",
    "    \n",
    "    #create a random blur function\n",
    "    def random_gaussian_blur(img):\n",
    "        if random.random() > 0.5:\n",
    "            radius=random.uniform(2,3)\n",
    "            blurred_image=img.filter(ImageFilter.GaussianBlur(radius=radius))\n",
    "        else:\n",
    "            blurred_image=img\n",
    "        return blurred_image\n",
    "    \n",
    "    #create a random brightness adjustment\n",
    "    def random_brightness(img):\n",
    "        if random.random() > 0.5:\n",
    "            brightness=random.uniform(0.45,0.55)\n",
    "            enhancer=ImageEnhance.Brightness(img)\n",
    "            bright_img=enhancer.enhance(brightness)\n",
    "        else:\n",
    "            bright_img=img\n",
    "        return bright_img\n",
    "            \n",
    "    \n",
    "    #count each class\n",
    "    target_counts=pd.DataFrame()\n",
    "    \n",
    "    #loop through each class\n",
    "    for i in df_in[\"target\"].unique():\n",
    "        #calculate the length of the active class\n",
    "        count=len(df_in[df_in[\"target\"]==i])\n",
    "        \n",
    "        #calculate the total for all classes\n",
    "        total_count=total_count+count\n",
    "        \n",
    "        #append each class and number per class\n",
    "        target_counts=target_counts.append({\n",
    "            \"target\":int(i),\n",
    "            \"count\":count\n",
    "        },ignore_index=True)\n",
    "       \n",
    "    #determine largest class\n",
    "    major_class=target_counts[\"count\"].max()\n",
    "    \n",
    "    #loop through each class\n",
    "    for i in target_counts[\"target\"].unique():\n",
    "        \n",
    "        #set an active filtered dataframe\n",
    "        working_df=df_in[df_in[\"target\"]==i]\n",
    "        \n",
    "        #set the current length of the class\n",
    "        c = len(working_df)\n",
    "        \n",
    "        #create a list of available images\n",
    "        img_list=working_df[working_df[\"target\"]==i][\"img\"].tolist()\n",
    "        \n",
    "        #loop through until the current class is the same length as the major class\n",
    "        while c <= major_class:\n",
    "            #increase the total count for the unique file name\n",
    "            total_count+=1\n",
    "            \n",
    "            #pick a random image from list\n",
    "            img = random.choice(img_list)\n",
    "            \n",
    "            #open random image from list\n",
    "            img = Image.open(f\".\\data\\{img}\")\n",
    "            \n",
    "            #apply random rotation with built in random chance of being applied\n",
    "            img = random_rotation(img)\n",
    "            \n",
    "            #apply random flip with built in random chance of being applied\n",
    "            img = random_flip(img)\n",
    "            \n",
    "            #apply random blur with built in random chance of being applied\n",
    "            img = random_gaussian_blur(img)\n",
    "            \n",
    "            #apply random brightness with built in random chance of being applied\n",
    "            img = random_brightness(img)\n",
    "        \n",
    "            #create a new filename for the new image\n",
    "            new_f_name=f\"{total_count}_{int(i)}.png\"\n",
    "        \n",
    "            #save the image back to the data directory\n",
    "            img.save(f\".\\data\\{new_f_name}\")\n",
    "            \n",
    "            #append the new image to the df\n",
    "            df_in=df_in.append({\n",
    "                \"target\":i,\n",
    "                \"img\":new_f_name\n",
    "            },ignore_index=True)\n",
    "\n",
    "            #increase the length of the class\n",
    "            c+=1\n",
    "\n",
    "    return df_in"
   ]
  },
  {
   "cell_type": "code",
   "execution_count": 7,
   "id": "ec428a09",
   "metadata": {},
   "outputs": [],
   "source": [
    "def create_X_y(df_in):\n",
    "    \"\"\"\n",
    "    function to create the input X array and target y vector for the model\n",
    "    df_in - input dataframe of image names and target classes\n",
    "    X_out - output array of size (none, 36, 36, 3)\n",
    "    y_out - output vector of size (none, 1)\n",
    "    \"\"\"\n",
    "    #create the empty matrix\n",
    "    X_out = []\n",
    "    \n",
    "    #loop through all images listed in the input dataframe\n",
    "    for i in df_in.index:\n",
    "        \n",
    "        #set the file name for os\n",
    "        f=df_in.loc[i,\"img\"]\n",
    "        \n",
    "        #read the image in\n",
    "        img = Image.open(f\".\\data\\{f}\")\n",
    "        \n",
    "        #convert to RGB for the colour dim\n",
    "        rgb_img = img.convert(\"RGB\")\n",
    "        \n",
    "        #convert image to numpy array of integers\n",
    "        img_arr = np.asarray(rgb_img,dtype=\"int\")\n",
    "        \n",
    "        #append to the master array\n",
    "        X_out.append(img_arr)\n",
    "    \n",
    "    #convert master array to numpy array\n",
    "    X_out = np.asarray(X_out)\n",
    "    \n",
    "    #normalise for colour dimension\n",
    "    X_out = X_out / 255\n",
    "    \n",
    "    #create vector of targets\n",
    "    y_out = np.asarray(df_in[[\"target\"]])\n",
    "    \n",
    "    return X_out, y_out"
   ]
  },
  {
   "cell_type": "code",
   "execution_count": 8,
   "id": "52224e7d",
   "metadata": {},
   "outputs": [],
   "source": [
    "def build_model(hp):\n",
    "    \"\"\"\n",
    "    Function to create tunable convnet [hp=hyper-parameters]\n",
    "    \"\"\"\n",
    "    \n",
    "    #initialise a sequential network\n",
    "    model = keras.Sequential()\n",
    "    \n",
    "    #add the first convoultional layer with the input shape\n",
    "    model.add(layers.Conv2D(filters=hp.Int(name=\"conv2d_filter_1\",min_value=16, max_value=1024, step=8, default=512),\n",
    "                           kernel_size=hp.Choice(name=\"conv2d_kernel_1\", values = [2,4]),\n",
    "                           activation=\"relu\",\n",
    "                           input_shape=(36,36,3)\n",
    "                           ))\n",
    "    \n",
    "    #first max pooling layer\n",
    "    model.add(layers.MaxPooling2D((2,2)))\n",
    "    \n",
    "    #add the second convolutional layer\n",
    "    model.add(layers.Conv2D(filters=hp.Int(name=\"conv2d_filter_2\",min_value=16, max_value=1024, step=8, default=512),\n",
    "                           kernel_size=hp.Choice(name=\"conv2d_kernel_2\", values = [2,4]),\n",
    "                           activation=\"relu\"\n",
    "                           ))\n",
    "    \n",
    "    #second max pooling layer\n",
    "    model.add(layers.MaxPooling2D((2,2)))\n",
    "    \n",
    "    #first regularisation\n",
    "    model.add(layers.Dropout(0.5))\n",
    "    \n",
    "    #third convolusional layer\n",
    "    model.add(layers.Conv2D(filters=hp.Int(name=\"conv2d_filter_3\",min_value=16, max_value=1024, step=8, default=512),\n",
    "                           kernel_size=hp.Choice(name=\"conv2d_kernel_3\", values = [2,4]),\n",
    "                           activation=\"relu\"\n",
    "                           ))\n",
    "    \n",
    "    #third max pooling layer\n",
    "    model.add(layers.MaxPooling2D((2,2)))    \n",
    "    \n",
    "    #second regularisation\n",
    "    model.add(layers.Dropout(0.5))\n",
    "    \n",
    "    #flatten to vector\n",
    "    model.add(layers.Flatten()),\n",
    "    \n",
    "    #first fully connected layer\n",
    "    model.add(layers.Dense(units=hp.Int(name=\"dense_layer_1\",min_value=128, max_value=1024, step=16, default=512),\n",
    "                          activation=\"relu\"))\n",
    "    \n",
    "    #second fully connected layer and output for 3 classes\n",
    "    model.add(layers.Dense(units=3,\n",
    "                           activation=\"softmax\"))\n",
    "\n",
    "    #build the model\n",
    "    model.compile(optimizer=keras.optimizers.Adam(hp.Choice(name=\"learning_rate\", values=[1e-2, 1e-3, 1e-4])),\n",
    "                 loss=\"sparse_categorical_crossentropy\",\n",
    "                 metrics=[\"accuracy\"])\n",
    "    \n",
    "    return model"
   ]
  },
  {
   "cell_type": "code",
   "execution_count": 9,
   "id": "80eb2789",
   "metadata": {},
   "outputs": [],
   "source": [
    "def grid_search(dir_name):\n",
    "    \"\"\"\n",
    "    function for grid-searching the hyper-parameter space\n",
    "    dir_name - directory name for grid search history storage\n",
    "    search_res - the resulting tuner object\n",
    "    \"\"\"\n",
    "    search_res = BayesianOptimization(build_model,\n",
    "                                      objective=keras_tuner.Objective(\"val_accuracy\",\n",
    "                                                                direction = \"max\"),\n",
    "                                      max_trials=50,\n",
    "                                      directory=dir_name,\n",
    "                                      overwrite=False)\n",
    "    return search_res"
   ]
  },
  {
   "cell_type": "code",
   "execution_count": 10,
   "id": "837ee20b",
   "metadata": {},
   "outputs": [],
   "source": [
    "def run_metrics(model_in, X_test, y_test):\n",
    "    \"\"\"\n",
    "    function to create the classification report and confusion matrix\n",
    "    model_in - a keras model\n",
    "    X_test - test sample of input X's\n",
    "    y_test - test sampel of target y's\n",
    "    \"\"\"\n",
    "    #predcit probabilties for test sample against each class\n",
    "    y_prob = model_in.predict(X_test)\n",
    "    \n",
    "    #create a predictions list\n",
    "    y_pred = []\n",
    "    \n",
    "    #loop through each set of predictions for an input X\n",
    "    for i in y_prob:\n",
    "        #identify the highest probability class as the prediction and append to the prediciton list\n",
    "        y_pred.append(np.argmax(i))\n",
    "        \n",
    "    #create a series of labels for the report and confusion matrix    \n",
    "    labels = [\"No Mask\", \"Incorrect Mask\", \"Mask\"]\n",
    "    \n",
    "    #create a classificaiton report and print out\n",
    "    print(\"Classification Report:\")\n",
    "    print(classification_report(y_test,\n",
    "                                y_pred,\n",
    "                                target_names=labels))\n",
    "    \n",
    "    #create a confusion matrix and plot\n",
    "    print(\"Confusion Matrix:\")\n",
    "    plt.figure(figsize=(6,6))\n",
    "    ConfusionMatrixDisplay(confusion_matrix(y_test,\n",
    "                                            y_pred),\n",
    "                           display_labels=labels).plot()"
   ]
  },
  {
   "cell_type": "code",
   "execution_count": 11,
   "id": "7031c10f",
   "metadata": {},
   "outputs": [],
   "source": [
    "def run_roc_curve(model_in, X_test, y_test, title):\n",
    "    \"\"\"\n",
    "    function to create an ROC curve and calculate AUC for each class\n",
    "    model_in - a keras model\n",
    "    X_test - test sample of input X's\n",
    "    y_test - test sampel of target y's\n",
    "    title - chart title\n",
    "    \"\"\"\n",
    "    #predcit probabilties for test sample against each class\n",
    "    y_prob = model_in.predict(X_test)\n",
    "    \n",
    "    #create a predictions list\n",
    "    y_pred = []\n",
    "    \n",
    "    #loop through each set of predictions for an input X\n",
    "    for i in y_prob:\n",
    "        #identify the highest probability class as the prediction and append to the prediciton list\n",
    "        y_pred.append(np.argmax(i))\n",
    "        \n",
    "    #create a label binarizer for the test sample\n",
    "    lb = LabelBinarizer().fit(y_test)\n",
    "    \n",
    "    #transform the predictions to a binarized format\n",
    "    y_score = lb.transform(y_pred)\n",
    "    \n",
    "    #transform the ground truth to a binarized format\n",
    "    y_test = lb.transform(y_test)\n",
    "    \n",
    "    #create false positives, true positives and auc dictionaries for results storage    \n",
    "    tpr = dict()\n",
    "    fpr = dict()\n",
    "    roc_auc = dict()\n",
    "    \n",
    "    #loop through all three classes\n",
    "    for i in range(3):\n",
    "        #append the true positive and false positive rates for the roc_curve\n",
    "        fpr[i], tpr[i], _ = roc_curve(y_test[:,i], y_score[:,i])\n",
    "        #append the auc to roc_auc\n",
    "        roc_auc[i] = auc(fpr[i],tpr[i])\n",
    "    \n",
    "    fpr[\"micro\"], tpr[\"micro\"], _ = roc_curve(y_test.ravel(),y_score.ravel())\n",
    "    roc_auc[\"micro\"] = auc(fpr[\"micro\"],tpr[\"micro\"])\n",
    "    \n",
    "    #set colors for each class\n",
    "    colors = cycle([(0,0,1),(1,0,0),(0,1,0.5)])\n",
    "    \n",
    "    #create label strings for each class\n",
    "    labels={0:\"No Mask\",\n",
    "           1:\"Incorrect Mask\",\n",
    "           2:\"Mask\"}\n",
    "    \n",
    "    #create the figure\n",
    "    plt.figure(figsize=(8,8))\n",
    "    \n",
    "    #loop through each class assigning an associated color per loop\n",
    "    for i, color in zip(range(3),colors):\n",
    "        #plot false positive on x, true positive on y\n",
    "        plt.plot(fpr[i],\n",
    "                tpr[i],\n",
    "                color=color,\n",
    "                lw=2,\n",
    "                label=f\"ROC Curve for: {labels.get(i)} (AUC = {roc_auc[i]:.2f})\",\n",
    "                )\n",
    "        \n",
    "    #create a diagonal line\n",
    "    plt.plot([0,1],[0,1],\"k--\",lw=2)\n",
    "    \n",
    "    #set the x limit\n",
    "    plt.xlim([0,1])\n",
    "    \n",
    "    #set the y limit\n",
    "    plt.ylim([0,1])\n",
    "    \n",
    "    #set the x label\n",
    "    plt.xlabel(\"False Positive Rate [-]\")\n",
    "    \n",
    "    #set the y label\n",
    "    plt.ylabel(\"True Positive Rate [-]\")\n",
    "    \n",
    "    #set the title as per the input\n",
    "    plt.title(title)\n",
    "    \n",
    "    #set the legend in the corner of the chart that should be empty\n",
    "    plt.legend(loc=\"lower right\")\n",
    "    plt.show()    "
   ]
  },
  {
   "cell_type": "markdown",
   "id": "875f8e04",
   "metadata": {},
   "source": [
    "# Data Prep"
   ]
  },
  {
   "cell_type": "code",
   "execution_count": 12,
   "id": "67523e89",
   "metadata": {},
   "outputs": [],
   "source": [
    "#create the annotation dataframe\n",
    "ANNO_DF = pd.DataFrame()\n",
    "\n",
    "#loop through all files in the annotation directory\n",
    "for file in os.listdir(anno_dir):\n",
    "    \n",
    "    #set the path to the annotation directory\n",
    "    path = f\"{anno_dir}\\{file}\"\n",
    "    \n",
    "    #read the annotation XML file in to a tree\n",
    "    tree = ET.parse(path)\n",
    "    \n",
    "    #seperate the file name from the extension\n",
    "    file_name=file.split(\".\")\n",
    "    file_name=file_name[0]\n",
    "    \n",
    "    #loop through all elements in the tree\n",
    "    for elem in tree.iter():\n",
    "        #determine if size elements\n",
    "        if 'size' in elem.tag:\n",
    "            for attr in list(elem):\n",
    "                #determine if width element and extract\n",
    "                if 'width' in attr.tag: \n",
    "                    width = int(round(float(attr.text)))\n",
    "                #determine if height element and extract\n",
    "                if 'height' in attr.tag:\n",
    "                    height = int(round(float(attr.text)))    \n",
    "\n",
    "        #determine if a boundary box object\n",
    "        if 'object' in elem.tag:\n",
    "            for attr in list(elem):\n",
    "\n",
    "                #determine if boundary box target and extract\n",
    "                if 'name' in attr.tag:\n",
    "                    name = attr.text                 \n",
    "                     \n",
    "                #determine if boundary box dims and extract each dimensnion\n",
    "                if 'bndbox' in attr.tag:\n",
    "                    for dim in list(attr):\n",
    "                        if 'xmin' in dim.tag:\n",
    "                            xmin = int(round(float(dim.text)))\n",
    "                        if 'ymin' in dim.tag:\n",
    "                            ymin = int(round(float(dim.text)))\n",
    "                        if 'xmax' in dim.tag:\n",
    "                            xmax = int(round(float(dim.text)))\n",
    "                        if 'ymax' in dim.tag:\n",
    "                            ymax = int(round(float(dim.text)))\n",
    "                            \n",
    "                            #append all extracted info to annotation dataframe\n",
    "                            ANNO_DF=ANNO_DF.append({\n",
    "                                \"file\":file_name,\n",
    "                                \"target\":name,\n",
    "                                \"width\":width,\n",
    "                                \"height\":height,\n",
    "                                \"xmin\":xmin,\n",
    "                                \"ymin\":ymin,\n",
    "                                \"xmax\":xmax,\n",
    "                                \"ymax\":ymax\n",
    "                            },ignore_index=True)"
   ]
  },
  {
   "cell_type": "code",
   "execution_count": 13,
   "id": "12e22fd7",
   "metadata": {},
   "outputs": [],
   "source": [
    "#apply ordinal encoding to annotation dataframe\n",
    "ANNO_DF=ordinal_encode(ANNO_DF)"
   ]
  },
  {
   "cell_type": "code",
   "execution_count": 14,
   "id": "b4eb4611",
   "metadata": {},
   "outputs": [],
   "source": [
    "#extract the areas of interest for each boundary box, crop and store as a new file\n",
    "ANNO_DF=image_cropping(ANNO_DF)"
   ]
  },
  {
   "cell_type": "code",
   "execution_count": 15,
   "id": "eefd6703",
   "metadata": {},
   "outputs": [],
   "source": [
    "#split the annotation dataframe into training and test splits with stratification on the target class for balance\n",
    "master_train, master_test = train_test_split(ANNO_DF,\n",
    "                                   train_size = 0.8,\n",
    "                                   random_state=42,\n",
    "                                   stratify=ANNO_DF[[\"target\"]]\n",
    "                                  )"
   ]
  },
  {
   "cell_type": "code",
   "execution_count": 16,
   "id": "1140182f",
   "metadata": {},
   "outputs": [
    {
     "name": "stdout",
     "output_type": "stream",
     "text": [
      "(815, 36, 36, 3)\n",
      "(815, 1)\n"
     ]
    }
   ],
   "source": [
    "#create the test input matrix and output vector and check their shape\n",
    "X_test, y_test=create_X_y(master_test)\n",
    "print(X_test.shape)\n",
    "print(y_test.shape)"
   ]
  },
  {
   "cell_type": "markdown",
   "id": "798e3ea2",
   "metadata": {},
   "source": [
    "# Baseline Modelling"
   ]
  },
  {
   "cell_type": "code",
   "execution_count": 17,
   "id": "4c016050",
   "metadata": {},
   "outputs": [
    {
     "name": "stdout",
     "output_type": "stream",
     "text": [
      "(3257, 36, 36, 3)\n",
      "(3257, 1)\n"
     ]
    }
   ],
   "source": [
    "#create the training input matrix and output vector and check their shape\n",
    "X_train_base, y_train_base=create_X_y(master_train)\n",
    "print(X_train_base.shape)\n",
    "print(y_train_base.shape)"
   ]
  },
  {
   "cell_type": "code",
   "execution_count": 18,
   "id": "332e5e88",
   "metadata": {},
   "outputs": [
    {
     "name": "stdout",
     "output_type": "stream",
     "text": [
      "INFO:tensorflow:Reloading Oracle from existing project baseline_modelling\\untitled_project\\oracle.json\n",
      "INFO:tensorflow:Reloading Tuner from baseline_modelling\\untitled_project\\tuner0.json\n"
     ]
    }
   ],
   "source": [
    "#create the baseline model gridsearch\n",
    "baseline_search=grid_search(\"baseline_modelling\")"
   ]
  },
  {
   "cell_type": "code",
   "execution_count": 19,
   "id": "25134015",
   "metadata": {
    "scrolled": true
   },
   "outputs": [
    {
     "name": "stdout",
     "output_type": "stream",
     "text": [
      "INFO:tensorflow:Oracle triggered exit\n"
     ]
    }
   ],
   "source": [
    "#complete the gridsearch\n",
    "baseline_search.search(X_train_base,\n",
    "                       y_train_base,\n",
    "                       epochs=50,\n",
    "                       validation_split=0.2)"
   ]
  },
  {
   "cell_type": "code",
   "execution_count": 20,
   "id": "6ba850cc",
   "metadata": {},
   "outputs": [],
   "source": [
    "#set the baseline model to be the best model from the gridsearch\n",
    "baseline_model = baseline_search.get_best_models(num_models=1)[0]"
   ]
  },
  {
   "cell_type": "code",
   "execution_count": 21,
   "id": "59c7cc6e",
   "metadata": {},
   "outputs": [
    {
     "name": "stdout",
     "output_type": "stream",
     "text": [
      "Model: \"sequential\"\n",
      "_________________________________________________________________\n",
      " Layer (type)                Output Shape              Param #   \n",
      "=================================================================\n",
      " conv2d (Conv2D)             (None, 35, 35, 752)       9776      \n",
      "                                                                 \n",
      " max_pooling2d (MaxPooling2D  (None, 17, 17, 752)      0         \n",
      " )                                                               \n",
      "                                                                 \n",
      " conv2d_1 (Conv2D)           (None, 16, 16, 720)       2166480   \n",
      "                                                                 \n",
      " max_pooling2d_1 (MaxPooling  (None, 8, 8, 720)        0         \n",
      " 2D)                                                             \n",
      "                                                                 \n",
      " dropout (Dropout)           (None, 8, 8, 720)         0         \n",
      "                                                                 \n",
      " conv2d_2 (Conv2D)           (None, 7, 7, 520)         1498120   \n",
      "                                                                 \n",
      " max_pooling2d_2 (MaxPooling  (None, 3, 3, 520)        0         \n",
      " 2D)                                                             \n",
      "                                                                 \n",
      " dropout_1 (Dropout)         (None, 3, 3, 520)         0         \n",
      "                                                                 \n",
      " flatten (Flatten)           (None, 4680)              0         \n",
      "                                                                 \n",
      " dense (Dense)               (None, 1024)              4793344   \n",
      "                                                                 \n",
      " dense_1 (Dense)             (None, 3)                 3075      \n",
      "                                                                 \n",
      "=================================================================\n",
      "Total params: 8,470,795\n",
      "Trainable params: 8,470,795\n",
      "Non-trainable params: 0\n",
      "_________________________________________________________________\n"
     ]
    }
   ],
   "source": [
    "#save the baseline model and print the summary\n",
    "baseline_model.save(\"baseline_model.h5\")\n",
    "baseline_model.summary()"
   ]
  },
  {
   "cell_type": "code",
   "execution_count": 22,
   "id": "a8f20863",
   "metadata": {},
   "outputs": [
    {
     "name": "stdout",
     "output_type": "stream",
     "text": [
      "Classification Report:\n",
      "                precision    recall  f1-score   support\n",
      "\n",
      "       No Mask       0.88      0.96      0.92       143\n",
      "Incorrect Mask       0.65      0.60      0.63        25\n",
      "          Mask       0.99      0.97      0.98       647\n",
      "\n",
      "      accuracy                           0.96       815\n",
      "     macro avg       0.84      0.84      0.84       815\n",
      "  weighted avg       0.96      0.96      0.96       815\n",
      "\n",
      "Confusion Matrix:\n"
     ]
    },
    {
     "data": {
      "text/plain": [
       "<Figure size 432x432 with 0 Axes>"
      ]
     },
     "metadata": {},
     "output_type": "display_data"
    },
    {
     "data": {
      "image/png": "[encoded data removed]",
      "text/plain": [
       "<Figure size 432x288 with 2 Axes>"
      ]
     },
     "metadata": {
      "needs_background": "light"
     },
     "output_type": "display_data"
    }
   ],
   "source": [
    "#run metrics on the baseline model\n",
    "run_metrics(baseline_model,\n",
    "            X_test,\n",
    "            y_test)"
   ]
  },
  {
   "cell_type": "code",
   "execution_count": 23,
   "id": "7d6bc328",
   "metadata": {},
   "outputs": [
    {
     "data": {
      "image/png": "[encoded data removed]",
      "text/plain": [
       "<Figure size 576x576 with 1 Axes>"
      ]
     },
     "metadata": {
      "needs_background": "light"
     },
     "output_type": "display_data"
    }
   ],
   "source": [
    "#create the ROC curve for the baseline model\n",
    "run_roc_curve(baseline_model,\n",
    "             X_test,\n",
    "             y_test,\n",
    "             title=\"ROC Curve for Baseline Model\")"
   ]
  },
  {
   "cell_type": "markdown",
   "id": "03a4650c",
   "metadata": {},
   "source": [
    "# Weighted Modelling"
   ]
  },
  {
   "cell_type": "code",
   "execution_count": 24,
   "id": "6bd861af",
   "metadata": {},
   "outputs": [],
   "source": [
    "#create a dictionary to store the class weights\n",
    "weights = {}\n",
    "\n",
    "#loop through each class\n",
    "for i in ANNO_DF[\"target\"].unique():\n",
    "    \n",
    "    #filter the dataframe based on the current class\n",
    "    w_df=ANNO_DF[ANNO_DF[\"target\"]==i]\n",
    "    \n",
    "    #calculate the weight and append\n",
    "    weights[i] = len(ANNO_DF)/(3*len(w_df))"
   ]
  },
  {
   "cell_type": "code",
   "execution_count": 25,
   "id": "f8b51a1e",
   "metadata": {},
   "outputs": [
    {
     "name": "stdout",
     "output_type": "stream",
     "text": [
      "INFO:tensorflow:Reloading Oracle from existing project weighted_modelling\\untitled_project\\oracle.json\n",
      "INFO:tensorflow:Reloading Tuner from weighted_modelling\\untitled_project\\tuner0.json\n"
     ]
    }
   ],
   "source": [
    "#create the weighted model gridsearch\n",
    "weighted_search=grid_search(\"weighted_modelling\")"
   ]
  },
  {
   "cell_type": "code",
   "execution_count": 26,
   "id": "bd10aff4",
   "metadata": {
    "scrolled": true
   },
   "outputs": [
    {
     "name": "stdout",
     "output_type": "stream",
     "text": [
      "INFO:tensorflow:Oracle triggered exit\n"
     ]
    }
   ],
   "source": [
    "#complete the weighted model gridsearch\n",
    "weighted_search.search(X_train_base,\n",
    "                      y_train_base,\n",
    "                      epochs=50,\n",
    "                      validation_split=0.2,\n",
    "                      class_weight=weights)"
   ]
  },
  {
   "cell_type": "code",
   "execution_count": 27,
   "id": "747dcdb9",
   "metadata": {},
   "outputs": [],
   "source": [
    "#set the weighted model to be the best model from the gridsearch\n",
    "weighted_model = weighted_search.get_best_models(num_models=1)[0]"
   ]
  },
  {
   "cell_type": "code",
   "execution_count": 28,
   "id": "ce60bf9c",
   "metadata": {},
   "outputs": [
    {
     "name": "stdout",
     "output_type": "stream",
     "text": [
      "Model: \"sequential\"\n",
      "_________________________________________________________________\n",
      " Layer (type)                Output Shape              Param #   \n",
      "=================================================================\n",
      " conv2d (Conv2D)             (None, 35, 35, 720)       9360      \n",
      "                                                                 \n",
      " max_pooling2d (MaxPooling2D  (None, 17, 17, 720)      0         \n",
      " )                                                               \n",
      "                                                                 \n",
      " conv2d_1 (Conv2D)           (None, 14, 14, 1024)      11797504  \n",
      "                                                                 \n",
      " max_pooling2d_1 (MaxPooling  (None, 7, 7, 1024)       0         \n",
      " 2D)                                                             \n",
      "                                                                 \n",
      " dropout (Dropout)           (None, 7, 7, 1024)        0         \n",
      "                                                                 \n",
      " conv2d_2 (Conv2D)           (None, 6, 6, 632)         2589304   \n",
      "                                                                 \n",
      " max_pooling2d_2 (MaxPooling  (None, 3, 3, 632)        0         \n",
      " 2D)                                                             \n",
      "                                                                 \n",
      " dropout_1 (Dropout)         (None, 3, 3, 632)         0         \n",
      "                                                                 \n",
      " flatten (Flatten)           (None, 5688)              0         \n",
      "                                                                 \n",
      " dense (Dense)               (None, 944)               5370416   \n",
      "                                                                 \n",
      " dense_1 (Dense)             (None, 3)                 2835      \n",
      "                                                                 \n",
      "=================================================================\n",
      "Total params: 19,769,419\n",
      "Trainable params: 19,769,419\n",
      "Non-trainable params: 0\n",
      "_________________________________________________________________\n"
     ]
    }
   ],
   "source": [
    "#save the weighted model and print the summary\n",
    "weighted_model.save(\"weighted_model.h5\")\n",
    "weighted_model.summary()"
   ]
  },
  {
   "cell_type": "code",
   "execution_count": 29,
   "id": "65507392",
   "metadata": {},
   "outputs": [
    {
     "name": "stdout",
     "output_type": "stream",
     "text": [
      "Classification Report:\n",
      "                precision    recall  f1-score   support\n",
      "\n",
      "       No Mask       0.83      0.99      0.90       143\n",
      "Incorrect Mask       0.56      0.60      0.58        25\n",
      "          Mask       0.99      0.95      0.97       647\n",
      "\n",
      "      accuracy                           0.94       815\n",
      "     macro avg       0.79      0.84      0.82       815\n",
      "  weighted avg       0.95      0.94      0.95       815\n",
      "\n",
      "Confusion Matrix:\n"
     ]
    },
    {
     "data": {
      "text/plain": [
       "<Figure size 432x432 with 0 Axes>"
      ]
     },
     "metadata": {},
     "output_type": "display_data"
    },
    {
     "data": {
      "image/png": "[encoded data removed]",
      "text/plain": [
       "<Figure size 432x288 with 2 Axes>"
      ]
     },
     "metadata": {
      "needs_background": "light"
     },
     "output_type": "display_data"
    }
   ],
   "source": [
    "#run the metrics on the weighted model\n",
    "run_metrics(weighted_model,\n",
    "           X_test,\n",
    "           y_test)"
   ]
  },
  {
   "cell_type": "code",
   "execution_count": 30,
   "id": "4bd21f75",
   "metadata": {},
   "outputs": [
    {
     "data": {
      "image/png": "[encoded data removed]",
      "text/plain": [
       "<Figure size 576x576 with 1 Axes>"
      ]
     },
     "metadata": {
      "needs_background": "light"
     },
     "output_type": "display_data"
    }
   ],
   "source": [
    "#run the ROC curve on the weighted model\n",
    "run_roc_curve(weighted_model,\n",
    "             X_test,\n",
    "             y_test,\n",
    "             \"ROC Cruve for Weighted Model\")"
   ]
  },
  {
   "cell_type": "markdown",
   "id": "7847c9a7",
   "metadata": {},
   "source": [
    "# Oversample Modelling"
   ]
  },
  {
   "cell_type": "code",
   "execution_count": 31,
   "id": "0eabee5d",
   "metadata": {},
   "outputs": [],
   "source": [
    "#create a new dataframe of expanded images to balance each class\n",
    "master_train_over=over_sampler(master_train)"
   ]
  },
  {
   "cell_type": "code",
   "execution_count": 32,
   "id": "7868c4c4",
   "metadata": {},
   "outputs": [
    {
     "name": "stdout",
     "output_type": "stream",
     "text": [
      "(7758, 36, 36, 3)\n",
      "(7758, 1)\n"
     ]
    }
   ],
   "source": [
    "#create the test input matrix and output vector and check their shape for the oversampling\n",
    "X_train_over, y_train_over=create_X_y(master_train_over)\n",
    "print(X_train_over.shape)\n",
    "print(y_train_over.shape)"
   ]
  },
  {
   "cell_type": "code",
   "execution_count": 33,
   "id": "83605592",
   "metadata": {},
   "outputs": [
    {
     "name": "stdout",
     "output_type": "stream",
     "text": [
      "INFO:tensorflow:Reloading Oracle from existing project oversample_modelling\\untitled_project\\oracle.json\n",
      "INFO:tensorflow:Reloading Tuner from oversample_modelling\\untitled_project\\tuner0.json\n"
     ]
    }
   ],
   "source": [
    "#create the oversample gridsearch\n",
    "oversample_search=grid_search(\"oversample_modelling\")"
   ]
  },
  {
   "cell_type": "code",
   "execution_count": 34,
   "id": "5ad55d48",
   "metadata": {
    "scrolled": true
   },
   "outputs": [
    {
     "name": "stdout",
     "output_type": "stream",
     "text": [
      "Trial 50 Complete [00h 01m 37s]\n",
      "val_accuracy: 0.9948453903198242\n",
      "\n",
      "Best val_accuracy So Far: 0.9948453903198242\n",
      "Total elapsed time: 00h 23m 49s\n",
      "INFO:tensorflow:Oracle triggered exit\n"
     ]
    }
   ],
   "source": [
    "#complete the oversample gridsearch\n",
    "oversample_search.search(X_train_over,\n",
    "                         y_train_over,\n",
    "                         epochs=50,\n",
    "                         validation_split=0.2)"
   ]
  },
  {
   "cell_type": "code",
   "execution_count": 35,
   "id": "ddf4e793",
   "metadata": {},
   "outputs": [],
   "source": [
    "#set the oversample model to be the best model from the gridsearch\n",
    "oversample_model = oversample_search.get_best_models(num_models=1)[0]"
   ]
  },
  {
   "cell_type": "code",
   "execution_count": 36,
   "id": "9f2f0255",
   "metadata": {},
   "outputs": [
    {
     "name": "stdout",
     "output_type": "stream",
     "text": [
      "Model: \"sequential\"\n",
      "_________________________________________________________________\n",
      " Layer (type)                Output Shape              Param #   \n",
      "=================================================================\n",
      " conv2d (Conv2D)             (None, 35, 35, 1024)      13312     \n",
      "                                                                 \n",
      " max_pooling2d (MaxPooling2D  (None, 17, 17, 1024)     0         \n",
      " )                                                               \n",
      "                                                                 \n",
      " conv2d_1 (Conv2D)           (None, 14, 14, 480)       7864800   \n",
      "                                                                 \n",
      " max_pooling2d_1 (MaxPooling  (None, 7, 7, 480)        0         \n",
      " 2D)                                                             \n",
      "                                                                 \n",
      " dropout (Dropout)           (None, 7, 7, 480)         0         \n",
      "                                                                 \n",
      " conv2d_2 (Conv2D)           (None, 4, 4, 1024)        7865344   \n",
      "                                                                 \n",
      " max_pooling2d_2 (MaxPooling  (None, 2, 2, 1024)       0         \n",
      " 2D)                                                             \n",
      "                                                                 \n",
      " dropout_1 (Dropout)         (None, 2, 2, 1024)        0         \n",
      "                                                                 \n",
      " flatten (Flatten)           (None, 4096)              0         \n",
      "                                                                 \n",
      " dense (Dense)               (None, 1024)              4195328   \n",
      "                                                                 \n",
      " dense_1 (Dense)             (None, 3)                 3075      \n",
      "                                                                 \n",
      "=================================================================\n",
      "Total params: 19,941,859\n",
      "Trainable params: 19,941,859\n",
      "Non-trainable params: 0\n",
      "_________________________________________________________________\n"
     ]
    }
   ],
   "source": [
    "#save the oversample model and print th summary\n",
    "oversample_model.save(\"oversample_model.h5\")\n",
    "oversample_model.summary()"
   ]
  },
  {
   "cell_type": "code",
   "execution_count": 37,
   "id": "6e9140e3",
   "metadata": {},
   "outputs": [
    {
     "name": "stdout",
     "output_type": "stream",
     "text": [
      "Classification Report:\n",
      "                precision    recall  f1-score   support\n",
      "\n",
      "       No Mask       0.93      0.96      0.94       143\n",
      "Incorrect Mask       0.47      0.76      0.58        25\n",
      "          Mask       0.99      0.96      0.97       647\n",
      "\n",
      "      accuracy                           0.95       815\n",
      "     macro avg       0.80      0.89      0.83       815\n",
      "  weighted avg       0.96      0.95      0.96       815\n",
      "\n",
      "Confusion Matrix:\n"
     ]
    },
    {
     "data": {
      "text/plain": [
       "<Figure size 432x432 with 0 Axes>"
      ]
     },
     "metadata": {},
     "output_type": "display_data"
    },
    {
     "data": {
      "image/png": "[encoded data removed]",
      "text/plain": [
       "<Figure size 432x288 with 2 Axes>"
      ]
     },
     "metadata": {
      "needs_background": "light"
     },
     "output_type": "display_data"
    }
   ],
   "source": [
    "#run the metrics on the oversample model\n",
    "run_metrics(oversample_model,\n",
    "            X_test,\n",
    "            y_test)"
   ]
  },
  {
   "cell_type": "code",
   "execution_count": 38,
   "id": "cc9fa7c0",
   "metadata": {},
   "outputs": [
    {
     "data": {
      "image/png": "[encoded data removed]",
      "text/plain": [
       "<Figure size 576x576 with 1 Axes>"
      ]
     },
     "metadata": {
      "needs_background": "light"
     },
     "output_type": "display_data"
    }
   ],
   "source": [
    "#create the ROC curve for the oversample model\n",
    "run_roc_curve(oversample_model,\n",
    "              X_test,\n",
    "              y_test,\n",
    "              title=\"ROC Curve for Oversampled Model\")"
   ]
  }
 ],
 "metadata": {
  "kernelspec": {
   "display_name": "Python 3 (ipykernel)",
   "language": "python",
   "name": "python3"
  },
  "language_info": {
   "codemirror_mode": {
    "name": "ipython",
    "version": 3
   },
   "file_extension": ".py",
   "mimetype": "text/x-python",
   "name": "python",
   "nbconvert_exporter": "python",
   "pygments_lexer": "ipython3",
   "version": "3.9.7"
  }
 },
 "nbformat": 4,
 "nbformat_minor": 5
}
